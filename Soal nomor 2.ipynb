{
  "nbformat": 4,
  "nbformat_minor": 0,
  "metadata": {
    "colab": {
      "name": "Untitled1.ipynb",
      "provenance": [],
      "collapsed_sections": [],
      "include_colab_link": true
    },
    "kernelspec": {
      "name": "python3",
      "display_name": "Python 3"
    }
  },
  "cells": [
    {
      "cell_type": "markdown",
      "metadata": {
        "id": "view-in-github",
        "colab_type": "text"
      },
      "source": [
        "<a href=\"https://colab.research.google.com/github/lutfiiwy/algoritma-pseudocode/blob/main/Soal%20nomor%202.ipynb\" target=\"_parent\"><img src=\"https://colab.research.google.com/assets/colab-badge.svg\" alt=\"Open In Colab\"/></a>"
      ]
    },
    {
      "cell_type": "code",
      "metadata": {
        "id": "ENSJWvZaFe0S",
        "outputId": "31c917fd-5c1c-4bb5-9aeb-0252f3b907a1",
        "colab": {
          "base_uri": "https://localhost:8080/"
        }
      },
      "source": [
        "#PENJUMLAHAN DAN PENGUADRATAN\n",
        "def add(x,y):\n",
        "    return x+y \n",
        "\n",
        "x=int(input(\"Masukkan bilangan pertama:\"))\n",
        "y=int(input(\"Masukkan bilangan kedua:\"))\n",
        "\n",
        "hasil=(x+y)**2\n",
        "\n",
        "print(\"(x+y)**2\",\"=\",hasil)\n"
      ],
      "execution_count": null,
      "outputs": [
        {
          "output_type": "stream",
          "text": [
            "Masukkan bilangan pertama:2\n",
            "Masukkan bilangan kedua:3\n",
            "(x+y)**2 = 25\n"
          ],
          "name": "stdout"
        }
      ]
    },
    {
      "cell_type": "code",
      "metadata": {
        "id": "I7hGrC0TLPcs",
        "outputId": "4a0f715e-c878-4952-df0d-75e16fdea4f5",
        "colab": {
          "base_uri": "https://localhost:8080/"
        }
      },
      "source": [
        "#PERKALIAN TIGA BUAH BILANGAN\n",
        "\n",
        "def multiply(a,b,c):\n",
        "    return a*b*c\n",
        "\n",
        "a=int(input(\"Masukkan bilangan pertama : \"))\n",
        "b=int(input(\"Masukkan bilangan kedua :\"))\n",
        "c=int(input(\"Masukkan bilangan ketiga: \"))\n",
        "hasil=a*b*c\n",
        "print(a,\"*\",b,\"*\",c,\"=\",hasil)"
      ],
      "execution_count": 1,
      "outputs": [
        {
          "output_type": "stream",
          "text": [
            "Masukkan bilangan pertama : 2\n",
            "Masukkan bilangan kedua :4\n",
            "Masukkan bilangan ketiga: 6\n",
            "2 * 4 * 6 = 48\n"
          ],
          "name": "stdout"
        }
      ]
    }
  ]
}