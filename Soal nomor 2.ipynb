{
  "nbformat": 4,
  "nbformat_minor": 0,
  "metadata": {
    "colab": {
      "name": "Untitled1.ipynb",
      "provenance": [],
      "collapsed_sections": [],
      "authorship_tag": "ABX9TyOlLmWOwnwaE41EYPi8a5qv",
      "include_colab_link": true
    },
    "kernelspec": {
      "name": "python3",
      "display_name": "Python 3"
    }
  },
  "cells": [
    {
      "cell_type": "markdown",
      "metadata": {
        "id": "view-in-github",
        "colab_type": "text"
      },
      "source": [
        "<a href=\"https://colab.research.google.com/github/lutfiiwy/algoritma-pseudocode/blob/main/Soal%20nomor%202.ipynb\" target=\"_parent\"><img src=\"https://colab.research.google.com/assets/colab-badge.svg\" alt=\"Open In Colab\"/></a>"
      ]
    },
    {
      "cell_type": "code",
      "metadata": {
        "id": "ENSJWvZaFe0S",
        "outputId": "31c917fd-5c1c-4bb5-9aeb-0252f3b907a1",
        "colab": {
          "base_uri": "https://localhost:8080/"
        }
      },
      "source": [
        "#PENJUMLAHAN DAN PENGUADRATAN\n",
        "def add(x,y):\n",
        "    return x+y \n",
        "\n",
        "x=int(input(\"Masukkan bilangan pertama:\"))\n",
        "y=int(input(\"Masukkan bilangan kedua:\"))\n",
        "\n",
        "hasil=(x+y)**2\n",
        "\n",
        "print(\"(x+y)**2\",\"=\",hasil)\n"
      ],
      "execution_count": 1,
      "outputs": [
        {
          "output_type": "stream",
          "text": [
            "Masukkan bilangan pertama:2\n",
            "Masukkan bilangan kedua:3\n",
            "(x+y)**2 = 25\n"
          ],
          "name": "stdout"
        }
      ]
    }
  ]
}